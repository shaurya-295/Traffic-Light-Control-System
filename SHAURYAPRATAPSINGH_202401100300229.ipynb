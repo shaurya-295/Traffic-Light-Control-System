{
  "nbformat": 4,
  "nbformat_minor": 0,
  "metadata": {
    "colab": {
      "provenance": []
    },
    "kernelspec": {
      "name": "python3",
      "display_name": "Python 3"
    },
    "language_info": {
      "name": "python"
    }
  },
  "cells": [
    {
      "cell_type": "code",
      "execution_count": 19,
      "metadata": {
        "colab": {
          "base_uri": "https://localhost:8080/"
        },
        "id": "KanTatcJjgQG",
        "outputId": "9d94d8dd-db53-4a6b-c5d4-aa21268cb6e8"
      },
      "outputs": [
        {
          "output_type": "stream",
          "name": "stdout",
          "text": [
            "Total time for this cycle: 206 seconds\n",
            "\n",
            "Green light for 30 seconds\n",
            "Yellow light for 10 seconds\n",
            "Red light for 30 seconds\n",
            "Green light for 30 seconds\n",
            "Yellow light for 10 seconds\n",
            "Red light for 30 seconds\n",
            "Green light for 30 seconds\n",
            "Yellow light for 10 seconds\n",
            "\n",
            "At the end of 206 seconds, the light will still be Red for 26 seconds.\n"
          ]
        }
      ],
      "source": [
        "import time\n",
        "import random\n",
        "\n",
        "# Define traffic light states\n",
        "RED = \"Red\"\n",
        "YELLOW = \"Yellow\"\n",
        "GREEN = \"Green\"\n",
        "\n",
        "# Timing for each state in seconds\n",
        "green_time = 30  # Green for 30 seconds\n",
        "yellow_time = 10  # Yellow for 10 seconds\n",
        "red_time = 30  # Red for 30 seconds\n",
        "\n",
        "# Function to simulate traffic light cycle with a fixed total time\n",
        "def change_traffic_lights(total_time):\n",
        "    # Initialize the timer for the total cycle time\n",
        "    timer = 0\n",
        "    print(f\"Total time for this cycle: {total_time} seconds\\n\")\n",
        "\n",
        "    # Start cycling through green, yellow, and red until the total time is reached\n",
        "    while timer < total_time:\n",
        "        # Green light phase\n",
        "        if timer + green_time <= total_time:\n",
        "            print(f\"Green light for {green_time} seconds\")\n",
        "            timer += green_time\n",
        "            time.sleep(green_time)\n",
        "        else:\n",
        "            break  # Exit loop if the green light goes beyond the total time\n",
        "\n",
        "        # Yellow light phase\n",
        "        if timer + yellow_time <= total_time:\n",
        "            print(f\"Yellow light for {yellow_time} seconds\")\n",
        "            timer += yellow_time\n",
        "            time.sleep(yellow_time)\n",
        "        else:\n",
        "            break  # Exit loop if the yellow light goes beyond the total time\n",
        "\n",
        "        # Red light phase\n",
        "        if timer + red_time <= total_time:\n",
        "            print(f\"Red light for {red_time} seconds\")\n",
        "            timer += red_time\n",
        "            time.sleep(red_time)\n",
        "        else:\n",
        "            break  # Exit loop if the red light goes beyond the total time\n",
        "\n",
        "    # Output the final state of the light at the end of the total time\n",
        "    remaining_time = total_time - timer\n",
        "    if remaining_time > 0:\n",
        "        print(f\"\\nAt the end of {total_time} seconds, the light will still be {RED} for {remaining_time} seconds.\")\n",
        "    else:\n",
        "        print(f\"\\nAt the end of {total_time} seconds, the light will be {RED}.\")\n",
        "\n",
        "# Set the total time for the cycle to run\n",
        "total_time = random.randint(100, 1000)\n",
        "\n",
        "# Run the traffic light system\n",
        "change_traffic_lights(total_time)\n",
        "\n"
      ]
    }
  ]
}